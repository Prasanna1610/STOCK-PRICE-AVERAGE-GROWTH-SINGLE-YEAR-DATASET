{
 "cells": [
  {
   "cell_type": "code",
   "execution_count": 1,
   "metadata": {},
   "outputs": [],
   "source": [
    "import pandas as pd\n",
    "import numpy as np\n",
    "from datetime import timedelta\n",
    "from datetime import datetime\n",
    "from datetime import *"
   ]
  },
  {
   "cell_type": "code",
   "execution_count": 2,
   "metadata": {},
   "outputs": [
    {
     "name": "stderr",
     "output_type": "stream",
     "text": [
      "<ipython-input-2-9622e21e175a>:2: FutureWarning: The pandas.datetime class is deprecated and will be removed from pandas in a future version. Import from datetime module instead.\n",
      "  mydateparser = lambda x: pd.datetime.strptime(x, \"%d-%b-%y\")\n"
     ]
    }
   ],
   "source": [
    "# Reading data from csv while parsing date column as datetime and index\n",
    "mydateparser = lambda x: pd.datetime.strptime(x, \"%d-%b-%y\")\n",
    "stockData_df = pd.read_csv('/Users/psai1/spx.csv', infer_datetime_format=True, \\\n",
    "                          parse_dates=['date'], date_parser=mydateparser, index_col =\"date\")"
   ]
  },
  {
   "cell_type": "code",
   "execution_count": 3,
   "metadata": {},
   "outputs": [
    {
     "data": {
      "text/html": [
       "<div>\n",
       "<style scoped>\n",
       "    .dataframe tbody tr th:only-of-type {\n",
       "        vertical-align: middle;\n",
       "    }\n",
       "\n",
       "    .dataframe tbody tr th {\n",
       "        vertical-align: top;\n",
       "    }\n",
       "\n",
       "    .dataframe thead th {\n",
       "        text-align: right;\n",
       "    }\n",
       "</style>\n",
       "<table border=\"1\" class=\"dataframe\">\n",
       "  <thead>\n",
       "    <tr style=\"text-align: right;\">\n",
       "      <th></th>\n",
       "      <th>close</th>\n",
       "    </tr>\n",
       "    <tr>\n",
       "      <th>date</th>\n",
       "      <th></th>\n",
       "    </tr>\n",
       "  </thead>\n",
       "  <tbody>\n",
       "    <tr>\n",
       "      <th>2004-05-19</th>\n",
       "      <td>1088.68</td>\n",
       "    </tr>\n",
       "    <tr>\n",
       "      <th>2013-07-01</th>\n",
       "      <td>1614.96</td>\n",
       "    </tr>\n",
       "    <tr>\n",
       "      <th>1992-03-16</th>\n",
       "      <td>406.39</td>\n",
       "    </tr>\n",
       "    <tr>\n",
       "      <th>2013-10-10</th>\n",
       "      <td>1692.56</td>\n",
       "    </tr>\n",
       "    <tr>\n",
       "      <th>2000-04-14</th>\n",
       "      <td>1356.56</td>\n",
       "    </tr>\n",
       "  </tbody>\n",
       "</table>\n",
       "</div>"
      ],
      "text/plain": [
       "              close\n",
       "date               \n",
       "2004-05-19  1088.68\n",
       "2013-07-01  1614.96\n",
       "1992-03-16   406.39\n",
       "2013-10-10  1692.56\n",
       "2000-04-14  1356.56"
      ]
     },
     "execution_count": 3,
     "metadata": {},
     "output_type": "execute_result"
    }
   ],
   "source": [
    "stockData_df.sample(5)"
   ]
  },
  {
   "cell_type": "code",
   "execution_count": 4,
   "metadata": {},
   "outputs": [
    {
     "data": {
      "text/plain": [
       "(8192, 1)"
      ]
     },
     "execution_count": 4,
     "metadata": {},
     "output_type": "execute_result"
    }
   ],
   "source": [
    "stockData_df.shape"
   ]
  },
  {
   "cell_type": "code",
   "execution_count": 5,
   "metadata": {},
   "outputs": [],
   "source": [
    "# Taking latest complete one year data to ease coding\n",
    "stockData_2017_df = stockData_df[(stockData_df.index.year == 2017)]"
   ]
  },
  {
   "cell_type": "code",
   "execution_count": 6,
   "metadata": {},
   "outputs": [
    {
     "name": "stdout",
     "output_type": "stream",
     "text": [
      "              close\n",
      "date               \n",
      "2017-01-03  2257.83\n",
      "2017-01-04  2270.75\n",
      "2017-01-05  2269.00\n",
      "2017-01-06  2276.98\n",
      "2017-01-09  2268.90\n",
      "...             ...\n",
      "2017-12-22  2683.34\n",
      "2017-12-26  2680.50\n",
      "2017-12-27  2682.62\n",
      "2017-12-28  2687.54\n",
      "2017-12-29  2673.61\n",
      "\n",
      "[251 rows x 1 columns]\n"
     ]
    }
   ],
   "source": [
    "stockData_2017_df.shape\n",
    "print(stockData_2017_df)"
   ]
  },
  {
   "cell_type": "code",
   "execution_count": 7,
   "metadata": {},
   "outputs": [],
   "source": [
    "#Check if the date is in dataframe or not\n",
    "def Get_Valid_Date(given_date,df):\n",
    "    try:\n",
    "        giv_date=str(given_date)\n",
    "        year=giv_date[0:4]\n",
    "        month=giv_date[5:7]\n",
    "        day=giv_date[8:10]\n",
    "        current_date=datetime(int(year),int(month),int(day))\n",
    "        cur_date=current_date.date()\n",
    "        condition=given_date in df.index\n",
    "        if cur_date>date(2017, 12, 29):\n",
    "            return date(2017, 12, 29)\n",
    "        elif cur_date<date(2017, 1, 3):\n",
    "            return date(2017, 1, 3)\n",
    "        elif condition==True:\n",
    "            return cur_date\n",
    "        else:\n",
    "            reduced_date = current_date - timedelta(days=1)\n",
    "            return Get_Valid_Date(reduced_date,df)\n",
    "    except ValueError:\n",
    "        giv_date=str(given_date)\n",
    "        year=giv_date[0:4]\n",
    "        month=giv_date[5:7]\n",
    "        int_day=int(giv_date[8:10])-1\n",
    "        day=str(int_day)\n",
    "        present_date=year+\"-\"+month+\"-\"+day\n",
    "        return Get_Valid_Date(present_date,df)\n",
    "        \n",
    "        "
   ]
  },
  {
   "cell_type": "code",
   "execution_count": 8,
   "metadata": {},
   "outputs": [
    {
     "data": {
      "text/plain": [
       "datetime.date(2017, 3, 3)"
      ]
     },
     "execution_count": 8,
     "metadata": {},
     "output_type": "execute_result"
    }
   ],
   "source": [
    "checked_date=Get_Valid_Date(\"2017-03-03\",stockData_2017_df)\n",
    "checked_date "
   ]
  },
  {
   "cell_type": "code",
   "execution_count": 9,
   "metadata": {},
   "outputs": [],
   "source": [
    "# Get closing value for the given date \n",
    "def Get_closing_Value(given_date,df):\n",
    "    result_date=str(Get_Valid_Date(given_date,df))\n",
    "    day_close=df.loc[result_date,[\"close\"]]\n",
    "    return day_close"
   ]
  },
  {
   "cell_type": "code",
   "execution_count": 10,
   "metadata": {},
   "outputs": [
    {
     "data": {
      "text/plain": [
       "close    2383.12\n",
       "Name: 2017-03-03 00:00:00, dtype: float64"
      ]
     },
     "execution_count": 10,
     "metadata": {},
     "output_type": "execute_result"
    }
   ],
   "source": [
    "Get_closing_Value(\"2017-03-03\",stockData_2017_df)"
   ]
  },
  {
   "cell_type": "code",
   "execution_count": 11,
   "metadata": {},
   "outputs": [],
   "source": [
    "# Calculate percentage growth when given day closing and dataframe\n",
    "def Cal_per_growth(d_close, df):\n",
    "    final_close=df.iloc[-1]\n",
    "    d_close_value=Get_closing_Value(d_close,df)\n",
    "    return ((final_close-d_close_value)/d_close_value)*100"
   ]
  },
  {
   "cell_type": "code",
   "execution_count": 12,
   "metadata": {},
   "outputs": [
    {
     "data": {
      "text/plain": [
       "close    12.189483\n",
       "dtype: float64"
      ]
     },
     "execution_count": 12,
     "metadata": {},
     "output_type": "execute_result"
    }
   ],
   "source": [
    "Cal_per_growth(\"2017-03-03\",stockData_2017_df)"
   ]
  },
  {
   "cell_type": "code",
   "execution_count": 13,
   "metadata": {},
   "outputs": [],
   "source": [
    "# Calculate average growth of a given day of the month in the given dataframe\n",
    "def Cal_avg_growth(day_of_month, df):\n",
    "    sum=0\n",
    "    for i in range(1,10):\n",
    "        if day_of_month<10:  \n",
    "            loop_date=\"2017-0\"+str(i)+\"-0\"+str(day_of_month)\n",
    "            loop_avg_growth=Cal_per_growth(loop_date,df)\n",
    "            sum=sum+loop_avg_growth\n",
    "        else :  \n",
    "            loop_date=\"2017-0\"+str(i)+\"-\"+str(day_of_month)\n",
    "            loop_avg_growth=Cal_per_growth(loop_date,df)\n",
    "            sum=sum+loop_avg_growth\n",
    "    for i in range(10,13):\n",
    "        if day_of_month<10:  \n",
    "            loop_date=\"2017-\"+str(i)+\"-0\"+str(day_of_month)\n",
    "            loop_avg_growth=Cal_per_growth(loop_date,df)\n",
    "            sum=sum+loop_avg_growth\n",
    "        else :  \n",
    "            loop_date=\"2017-\"+str(i)+\"-\"+str(day_of_month)\n",
    "            loop_avg_growth=Cal_per_growth(loop_date,df)\n",
    "            sum=sum+loop_avg_growth\n",
    "            \n",
    "    avg_percent_growth_one_day_full_year=sum/12\n",
    "    return avg_percent_growth_one_day_full_year"
   ]
  },
  {
   "cell_type": "code",
   "execution_count": 15,
   "metadata": {},
   "outputs": [
    {
     "data": {
      "text/plain": [
       "close    8.705487\n",
       "dtype: float64"
      ]
     },
     "execution_count": 15,
     "metadata": {},
     "output_type": "execute_result"
    }
   ],
   "source": [
    "Cal_avg_growth(30,stockData_2017_df)"
   ]
  },
  {
   "cell_type": "code",
   "execution_count": 16,
   "metadata": {},
   "outputs": [],
   "source": [
    "def Cal_avg_growth_allDays(df):\n",
    "    final= pd.DataFrame({'day': [1,2,3,4,5,6,7,8,9,10,11,12,13,14,15,16,17,18,19,20,21,22,23,24,25,26,27,28,29,30,31]})\n",
    "    final.set_index('day')\n",
    "    result=[]\n",
    "    for i in range(1,32):\n",
    "        result.append(Cal_avg_growth(i, df))\n",
    "    final[\"Average Growth\"]=result\n",
    "    return final"
   ]
  },
  {
   "cell_type": "code",
   "execution_count": 17,
   "metadata": {},
   "outputs": [
    {
     "data": {
      "text/html": [
       "<div>\n",
       "<style scoped>\n",
       "    .dataframe tbody tr th:only-of-type {\n",
       "        vertical-align: middle;\n",
       "    }\n",
       "\n",
       "    .dataframe tbody tr th {\n",
       "        vertical-align: top;\n",
       "    }\n",
       "\n",
       "    .dataframe thead th {\n",
       "        text-align: right;\n",
       "    }\n",
       "</style>\n",
       "<table border=\"1\" class=\"dataframe\">\n",
       "  <thead>\n",
       "    <tr style=\"text-align: right;\">\n",
       "      <th></th>\n",
       "      <th>day</th>\n",
       "      <th>Average Growth</th>\n",
       "    </tr>\n",
       "  </thead>\n",
       "  <tbody>\n",
       "    <tr>\n",
       "      <th>0</th>\n",
       "      <td>1</td>\n",
       "      <td>close    9.968917\n",
       "dtype: float64</td>\n",
       "    </tr>\n",
       "    <tr>\n",
       "      <th>1</th>\n",
       "      <td>2</td>\n",
       "      <td>close    9.933011\n",
       "dtype: float64</td>\n",
       "    </tr>\n",
       "    <tr>\n",
       "      <th>2</th>\n",
       "      <td>3</td>\n",
       "      <td>close    9.838061\n",
       "dtype: float64</td>\n",
       "    </tr>\n",
       "    <tr>\n",
       "      <th>3</th>\n",
       "      <td>4</td>\n",
       "      <td>close    9.752149\n",
       "dtype: float64</td>\n",
       "    </tr>\n",
       "    <tr>\n",
       "      <th>4</th>\n",
       "      <td>5</td>\n",
       "      <td>close    9.799334\n",
       "dtype: float64</td>\n",
       "    </tr>\n",
       "    <tr>\n",
       "      <th>5</th>\n",
       "      <td>6</td>\n",
       "      <td>close    9.881239\n",
       "dtype: float64</td>\n",
       "    </tr>\n",
       "    <tr>\n",
       "      <th>6</th>\n",
       "      <td>7</td>\n",
       "      <td>close    9.804748\n",
       "dtype: float64</td>\n",
       "    </tr>\n",
       "    <tr>\n",
       "      <th>7</th>\n",
       "      <td>8</td>\n",
       "      <td>close    9.793305\n",
       "dtype: float64</td>\n",
       "    </tr>\n",
       "    <tr>\n",
       "      <th>8</th>\n",
       "      <td>9</td>\n",
       "      <td>close    9.833718\n",
       "dtype: float64</td>\n",
       "    </tr>\n",
       "    <tr>\n",
       "      <th>9</th>\n",
       "      <td>10</td>\n",
       "      <td>close    9.862929\n",
       "dtype: float64</td>\n",
       "    </tr>\n",
       "    <tr>\n",
       "      <th>10</th>\n",
       "      <td>11</td>\n",
       "      <td>close    9.724863\n",
       "dtype: float64</td>\n",
       "    </tr>\n",
       "    <tr>\n",
       "      <th>11</th>\n",
       "      <td>12</td>\n",
       "      <td>close    9.709523\n",
       "dtype: float64</td>\n",
       "    </tr>\n",
       "    <tr>\n",
       "      <th>12</th>\n",
       "      <td>13</td>\n",
       "      <td>close    9.625768\n",
       "dtype: float64</td>\n",
       "    </tr>\n",
       "    <tr>\n",
       "      <th>13</th>\n",
       "      <td>14</td>\n",
       "      <td>close    9.559391\n",
       "dtype: float64</td>\n",
       "    </tr>\n",
       "    <tr>\n",
       "      <th>14</th>\n",
       "      <td>15</td>\n",
       "      <td>close    9.37136\n",
       "dtype: float64</td>\n",
       "    </tr>\n",
       "    <tr>\n",
       "      <th>15</th>\n",
       "      <td>16</td>\n",
       "      <td>close    9.299863\n",
       "dtype: float64</td>\n",
       "    </tr>\n",
       "    <tr>\n",
       "      <th>16</th>\n",
       "      <td>17</td>\n",
       "      <td>close    9.574407\n",
       "dtype: float64</td>\n",
       "    </tr>\n",
       "    <tr>\n",
       "      <th>17</th>\n",
       "      <td>18</td>\n",
       "      <td>close    9.497625\n",
       "dtype: float64</td>\n",
       "    </tr>\n",
       "    <tr>\n",
       "      <th>18</th>\n",
       "      <td>19</td>\n",
       "      <td>close    9.376127\n",
       "dtype: float64</td>\n",
       "    </tr>\n",
       "    <tr>\n",
       "      <th>19</th>\n",
       "      <td>20</td>\n",
       "      <td>close    9.299081\n",
       "dtype: float64</td>\n",
       "    </tr>\n",
       "    <tr>\n",
       "      <th>20</th>\n",
       "      <td>21</td>\n",
       "      <td>close    9.341407\n",
       "dtype: float64</td>\n",
       "    </tr>\n",
       "    <tr>\n",
       "      <th>21</th>\n",
       "      <td>22</td>\n",
       "      <td>close    9.203995\n",
       "dtype: float64</td>\n",
       "    </tr>\n",
       "    <tr>\n",
       "      <th>22</th>\n",
       "      <td>23</td>\n",
       "      <td>close    9.271228\n",
       "dtype: float64</td>\n",
       "    </tr>\n",
       "    <tr>\n",
       "      <th>23</th>\n",
       "      <td>24</td>\n",
       "      <td>close    9.073166\n",
       "dtype: float64</td>\n",
       "    </tr>\n",
       "    <tr>\n",
       "      <th>24</th>\n",
       "      <td>25</td>\n",
       "      <td>close    8.916483\n",
       "dtype: float64</td>\n",
       "    </tr>\n",
       "    <tr>\n",
       "      <th>25</th>\n",
       "      <td>26</td>\n",
       "      <td>close    8.916953\n",
       "dtype: float64</td>\n",
       "    </tr>\n",
       "    <tr>\n",
       "      <th>26</th>\n",
       "      <td>27</td>\n",
       "      <td>close    8.894166\n",
       "dtype: float64</td>\n",
       "    </tr>\n",
       "    <tr>\n",
       "      <th>27</th>\n",
       "      <td>28</td>\n",
       "      <td>close    8.685668\n",
       "dtype: float64</td>\n",
       "    </tr>\n",
       "    <tr>\n",
       "      <th>28</th>\n",
       "      <td>29</td>\n",
       "      <td>close    8.760497\n",
       "dtype: float64</td>\n",
       "    </tr>\n",
       "    <tr>\n",
       "      <th>29</th>\n",
       "      <td>30</td>\n",
       "      <td>close    8.705487\n",
       "dtype: float64</td>\n",
       "    </tr>\n",
       "    <tr>\n",
       "      <th>30</th>\n",
       "      <td>31</td>\n",
       "      <td>close    8.686527\n",
       "dtype: float64</td>\n",
       "    </tr>\n",
       "  </tbody>\n",
       "</table>\n",
       "</div>"
      ],
      "text/plain": [
       "    day                    Average Growth\n",
       "0     1  close    9.968917\n",
       "dtype: float64\n",
       "1     2  close    9.933011\n",
       "dtype: float64\n",
       "2     3  close    9.838061\n",
       "dtype: float64\n",
       "3     4  close    9.752149\n",
       "dtype: float64\n",
       "4     5  close    9.799334\n",
       "dtype: float64\n",
       "5     6  close    9.881239\n",
       "dtype: float64\n",
       "6     7  close    9.804748\n",
       "dtype: float64\n",
       "7     8  close    9.793305\n",
       "dtype: float64\n",
       "8     9  close    9.833718\n",
       "dtype: float64\n",
       "9    10  close    9.862929\n",
       "dtype: float64\n",
       "10   11  close    9.724863\n",
       "dtype: float64\n",
       "11   12  close    9.709523\n",
       "dtype: float64\n",
       "12   13  close    9.625768\n",
       "dtype: float64\n",
       "13   14  close    9.559391\n",
       "dtype: float64\n",
       "14   15   close    9.37136\n",
       "dtype: float64\n",
       "15   16  close    9.299863\n",
       "dtype: float64\n",
       "16   17  close    9.574407\n",
       "dtype: float64\n",
       "17   18  close    9.497625\n",
       "dtype: float64\n",
       "18   19  close    9.376127\n",
       "dtype: float64\n",
       "19   20  close    9.299081\n",
       "dtype: float64\n",
       "20   21  close    9.341407\n",
       "dtype: float64\n",
       "21   22  close    9.203995\n",
       "dtype: float64\n",
       "22   23  close    9.271228\n",
       "dtype: float64\n",
       "23   24  close    9.073166\n",
       "dtype: float64\n",
       "24   25  close    8.916483\n",
       "dtype: float64\n",
       "25   26  close    8.916953\n",
       "dtype: float64\n",
       "26   27  close    8.894166\n",
       "dtype: float64\n",
       "27   28  close    8.685668\n",
       "dtype: float64\n",
       "28   29  close    8.760497\n",
       "dtype: float64\n",
       "29   30  close    8.705487\n",
       "dtype: float64\n",
       "30   31  close    8.686527\n",
       "dtype: float64"
      ]
     },
     "execution_count": 17,
     "metadata": {},
     "output_type": "execute_result"
    }
   ],
   "source": [
    "Result_table=Cal_avg_growth_allDays(stockData_2017_df)\n",
    "Result_table"
   ]
  },
  {
   "cell_type": "code",
   "execution_count": 28,
   "metadata": {},
   "outputs": [],
   "source": [
    "import matplotlib.pyplot as plt\n",
    "import seaborn as sn\n",
    "%matplotlib inline"
   ]
  },
  {
   "cell_type": "code",
   "execution_count": 31,
   "metadata": {},
   "outputs": [
    {
     "data": {
      "image/png": "[encoded data removed]",
      "text/plain": [
       "<Figure size 432x288 with 1 Axes>"
      ]
     },
     "metadata": {
      "needs_background": "light"
     },
     "output_type": "display_data"
    }
   ],
   "source": [
    "x=Result_table[\"day\"]\n",
    "y=Result_table[\"Average Growth\"]\n",
    "plt.plot(x, y)\n",
    "plt.xlabel('DAY')\n",
    "plt.ylabel('AVERAGE GROWTH')\n",
    "plt.title('AVERAGE GROWTH FOR EACH DAY IN THE YEAR 2017')\n",
    "plt.show()"
   ]
  },
  {
   "cell_type": "code",
   "execution_count": 33,
   "metadata": {},
   "outputs": [
    {
     "data": {
      "image/png": "[encoded data removed]",
      "text/plain": [
       "<Figure size 432x288 with 1 Axes>"
      ]
     },
     "metadata": {
      "needs_background": "light"
     },
     "output_type": "display_data"
    }
   ],
   "source": [
    "x=Result_table[\"day\"]\n",
    "y=Result_table[\"Average Growth\"]\n",
    "plt.scatter(x, y, label= \"stars\", color= \"green\", marker= \"*\", s=31)\n",
    "plt.xlabel('DAY')\n",
    "plt.ylabel('AVERAGE GROWTH')\n",
    "plt.title('AVERAGE GROWTH FOR EACH DAY IN THE YEAR 2017')\n",
    "plt.legend()\n",
    "plt.show()"
   ]
  },
  {
   "cell_type": "code",
   "execution_count": 17,
   "metadata": {},
   "outputs": [],
   "source": [
    "Result_table.to_csv('Stocks_data.csv', header=True, index=False)"
   ]
  }
 ],
 "metadata": {
  "kernelspec": {
   "display_name": "Python 3",
   "language": "python",
   "name": "python3"
  },
  "language_info": {
   "codemirror_mode": {
    "name": "ipython",
    "version": 3
   },
   "file_extension": ".py",
   "mimetype": "text/x-python",
   "name": "python",
   "nbconvert_exporter": "python",
   "pygments_lexer": "ipython3",
   "version": "3.8.3"
  }
 },
 "nbformat": 4,
 "nbformat_minor": 4
}
